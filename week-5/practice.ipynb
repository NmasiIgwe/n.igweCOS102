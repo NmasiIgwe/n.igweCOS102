{
 "cells": [
  {
   "cell_type": "code",
   "execution_count": 1,
   "id": "be7013e7-2e13-4c31-b388-4fe5fa7dcd5e",
   "metadata": {},
   "outputs": [
    {
     "name": "stdout",
     "output_type": "stream",
     "text": [
      "I'm first call to user defined function!\n",
      "Again second call to same function\n"
     ]
    }
   ],
   "source": [
    "#practice-1\n",
    "#calling a function\n",
    "\n",
    "def printme( str):\n",
    "    #this is a print function\n",
    "    print (str);\n",
    "    return;\n",
    "\n",
    "printme(\"I'm first call to user defined function!\");\n",
    "printme(\"Again second call to same function\");"
   ]
  },
  {
   "cell_type": "code",
   "execution_count": 2,
   "id": "0399f05d-deda-47e6-ab23-7b7bd9070e66",
   "metadata": {},
   "outputs": [
    {
     "name": "stdout",
     "output_type": "stream",
     "text": [
      "Values inside the function:  [10, 20, 30, [1, 2, 3, 4]]\n",
      "Values outside the function:  [10, 20, 30, [1, 2, 3, 4]]\n"
     ]
    }
   ],
   "source": [
    "#practice-2\n",
    "#pass by reference vs value\n",
    "\n",
    "def changeme( mylist ):\n",
    "    #this changes a passed list\n",
    "    mylist.append([1,2,3,4])\n",
    "    print(\"Values inside the function: \", mylist)\n",
    "    return\n",
    "\n",
    "mylist = [10,20,30]\n",
    "changeme(mylist)\n",
    "print (\"Values outside the function: \", mylist)"
   ]
  },
  {
   "cell_type": "code",
   "execution_count": 3,
   "id": "bf9e0589-c963-4036-b1a5-b71f13afdac3",
   "metadata": {},
   "outputs": [
    {
     "name": "stdout",
     "output_type": "stream",
     "text": [
      "Values inside the function:  [1, 2, 3, 4]\n",
      "Values outside the function:  [10, 20, 30]\n"
     ]
    }
   ],
   "source": [
    "#practice-3\n",
    "#pass by reference vs value\n",
    "\n",
    "def changeme( mylist ):\n",
    "    #this changes a passed list\n",
    "    mylist = [1,2,3,4];\n",
    "    print(\"Values inside the function: \", mylist)\n",
    "    return\n",
    "\n",
    "mylist = [10,20,30];\n",
    "changeme( mylist );\n",
    "print (\"Values outside the function: \", mylist)\n"
   ]
  },
  {
   "cell_type": "code",
   "execution_count": 4,
   "id": "ea8f8d4c-614b-40e2-9f40-5ab21445314b",
   "metadata": {},
   "outputs": [
    {
     "ename": "TypeError",
     "evalue": "printme() missing 1 required positional argument: 'str'",
     "output_type": "error",
     "traceback": [
      "\u001b[1;31m---------------------------------------------------------------------------\u001b[0m",
      "\u001b[1;31mTypeError\u001b[0m                                 Traceback (most recent call last)",
      "Cell \u001b[1;32mIn[4], line 8\u001b[0m\n\u001b[0;32m      6\u001b[0m     \u001b[38;5;28mprint\u001b[39m (\u001b[38;5;28mstr\u001b[39m);\n\u001b[0;32m      7\u001b[0m     \u001b[38;5;28;01mreturn\u001b[39;00m;\n\u001b[1;32m----> 8\u001b[0m printme()\n",
      "\u001b[1;31mTypeError\u001b[0m: printme() missing 1 required positional argument: 'str'"
     ]
    }
   ],
   "source": [
    "#practice-4\n",
    "#required arguments\n",
    "\n",
    "def printme( str):\n",
    "    #this prints a passed string\n",
    "    print (str);\n",
    "    return;\n",
    "printme();"
   ]
  },
  {
   "cell_type": "code",
   "execution_count": 1,
   "id": "460670da-1a6f-494b-ab86-58b13c25af27",
   "metadata": {},
   "outputs": [
    {
     "name": "stdout",
     "output_type": "stream",
     "text": [
      "My string\n"
     ]
    }
   ],
   "source": [
    "#practice-4\n",
    "#keywood arguments\n",
    "\n",
    "def printme( str ):\n",
    "    #this prints a passed string\n",
    "    print (str );\n",
    "    return;\n",
    "printme( str = \"My string\");"
   ]
  },
  {
   "cell_type": "code",
   "execution_count": 2,
   "id": "4cd27cae-6007-485a-9c42-0fba2c6e2c4f",
   "metadata": {},
   "outputs": [
    {
     "name": "stdout",
     "output_type": "stream",
     "text": [
      "Name:  miki\n",
      "Age:  50\n"
     ]
    }
   ],
   "source": [
    "#practice-5\n",
    "#keyword arguments\n",
    "def printinfo( name, age ):\n",
    "    #test function\n",
    "    print (\"Name: \", name);\n",
    "    print(\"Age: \", age);\n",
    "    return;\n",
    "printinfo( age=50, name=\"miki\" );\n"
   ]
  },
  {
   "cell_type": "code",
   "execution_count": 3,
   "id": "f21ed085-b68a-48a3-a879-908f0ddf25de",
   "metadata": {},
   "outputs": [
    {
     "name": "stdout",
     "output_type": "stream",
     "text": [
      "Name:  miki\n",
      "Age:  50\n",
      "Name:  miki\n",
      "Age:  35\n"
     ]
    }
   ],
   "source": [
    "#practice-6\n",
    "#default arguments\n",
    "\n",
    "def printinfo( name, age = 35 ):\n",
    "    #test function\n",
    "    print(\"Name: \", name);\n",
    "    print(\"Age: \", age);\n",
    "    return;\n",
    "printinfo( age =50, name=\"miki\" );\n",
    "printinfo( name=\"miki\" );"
   ]
  },
  {
   "cell_type": "code",
   "execution_count": 4,
   "id": "bc3b6cce-0fda-4d6c-b5d0-60f4c4ca82e5",
   "metadata": {},
   "outputs": [
    {
     "name": "stdout",
     "output_type": "stream",
     "text": [
      "Output is: \n",
      "10\n",
      "Output is: \n",
      "70\n",
      "60\n"
     ]
    }
   ],
   "source": [
    "#practice-7\n",
    "#variable arguments\n",
    "def printinfo( arg1, *vartuple ):\n",
    "    #this is test\n",
    "    print (\"Output is: \")\n",
    "    print (arg1)\n",
    "    for var in vartuple:\n",
    "        print (var)\n",
    "        return;\n",
    "printinfo( 10 );\n",
    "printinfo( 70, 60, 50 );"
   ]
  },
  {
   "cell_type": "code",
   "execution_count": 5,
   "id": "c3c3ce21-431e-4ca0-a80a-b6c01a5fd814",
   "metadata": {},
   "outputs": [
    {
     "name": "stdout",
     "output_type": "stream",
     "text": [
      "Inside the function local total:  30\n",
      "Outside the function global total:  50\n"
     ]
    }
   ],
   "source": [
    "#practice-8\n",
    "#scope of variables\n",
    "total = 50;  #this is global variable.\n",
    "def sum( arg1, arg2):\n",
    "    #add both the parameters\n",
    "    total = arg1 + arg2;\n",
    "    print (\"Inside the function local total: \", total)\n",
    "    return total;\n",
    "#now you can call sum function\n",
    "sum( 10, 20 );\n",
    "print (\"Outside the function global total: \", total)"
   ]
  },
  {
   "cell_type": "code",
   "execution_count": 6,
   "id": "1efe55da-ee9f-4883-bf3e-08b709c92657",
   "metadata": {},
   "outputs": [
    {
     "name": "stdout",
     "output_type": "stream",
     "text": [
      "Lawal Edward Tolu Tina\n",
      "Mary\n"
     ]
    }
   ],
   "source": [
    "#practice-9\n",
    "#scope of variables\n",
    "def swap(x, y):\n",
    "    global a\n",
    "    a = \"Lawal\"\n",
    "    x,y = y,x\n",
    "    b = \"Chris\"\n",
    "    b = \"Edward\"\n",
    "    c = \"Lola\"\n",
    "    print(a,b,x,y)\n",
    "    a = \"Mary\"\n",
    "swap(\"Tina\",\"Tolu\")\n",
    "print (a)"
   ]
  },
  {
   "cell_type": "code",
   "execution_count": 17,
   "id": "081ae352-58fd-460b-ad88-5edae8b4a28d",
   "metadata": {},
   "outputs": [
    {
     "name": "stderr",
     "output_type": "stream",
     "text": [
      "Exception in Tkinter callback\n",
      "Traceback (most recent call last):\n",
      "  File \"C:\\ProgramData\\anaconda3\\Lib\\tkinter\\__init__.py\", line 1948, in __call__\n",
      "    return self.func(*args)\n",
      "           ^^^^^^^^^^^^^^^^\n",
      "  File \"C:\\Users\\Igwe Felicia\\AppData\\Local\\Temp\\ipykernel_8900\\644262742.py\", line 10, in button_click\n",
      "    msgbox.showinfo(\"Info\",\"Welcome to COS 102 GUI App! \\n\")\n",
      "    ^^^^^^\n",
      "NameError: name 'msgbox' is not defined\n"
     ]
    }
   ],
   "source": [
    "#practice-10\n",
    "#tkinter application 1\n",
    "import tkinter as tk\n",
    "\n",
    "#handling button click event\n",
    "def button_click():\n",
    "    #print(\"Button clicked!\")\n",
    "\n",
    "    #show an information message box\n",
    "    msgbox.showinfo(\"Info\",\"Welcome to COS 102 GUI App! \\n\")\n",
    "    \n",
    "    #ask for user confirmation\n",
    "    result = msgbox.askyesno(\"Confirmation\", \"Do you want to continue?\")\n",
    "\n",
    "#create the main window\n",
    "root =tk.Tk()\n",
    "root.title(\"Home Page\")\n",
    "root.geometry(\"300x100\")\n",
    "\n",
    "#add a label widget\n",
    "label =tk.Label(root, text=\"Hello Friend \\n\")\n",
    "label.pack()\n",
    "\n",
    "#add a button widget\n",
    "button = tk.Button(root, text=\"Click Me!\", command=button_click)\n",
    "button.pack()\n",
    "\n",
    "#styling the button widget\n",
    "button.config(fg=\"white\", bg=\"pink\")\n",
    "\n",
    "#start the event loop\n",
    "root.mainloop()"
   ]
  },
  {
   "cell_type": "code",
   "execution_count": 23,
   "id": "bc9f65bf-daa1-498a-9194-a92ad4f34aae",
   "metadata": {},
   "outputs": [],
   "source": [
    "#tkinter application 2\n",
    "import tkinter as tk\n",
    "from tkinter import messagebox\n",
    "from PIL import Image\n",
    "\n",
    "def welcomeMessage(username):\n",
    "    #create a tkinter window\n",
    "    window = tk.Toplevel(root)\n",
    "    window.title(\"Admin Box\")\n",
    "    window.geometry(\"500x200\")\n",
    "    \n",
    "    label_1 = tk.Label(window, text=f\"Welcome {username} \\n\")\n",
    "    label_1.pack()\n",
    "    label_2 = tk.Label(window, text=\"This is Python GUI with Tkinter\")\n",
    "    label_2.pack()\n",
    "    \n",
    "    #run the Tkinter event loop\n",
    "    root.mainloop()\n",
    "\n",
    "def submit():\n",
    "    username = username_entry.get()\n",
    "    password = password_entry.get()\n",
    "    \n",
    "    if username == \"Mary\" and password == \"cos102\":\n",
    "        welcomeMessage(username)\n",
    "    else:\n",
    "        messagebox.showerror(\"Login\", \"Invalid username or password\")\n",
    "\n",
    "#create main window\n",
    "root = tk.Tk()\n",
    "root.title(\"Login Form\")\n",
    "root.geometry(\"500x200\")\n",
    "\n",
    "#create username label and entry\n",
    "username_label = tk.Label(root, text=\"Username: \")\n",
    "username_label.pack()\n",
    "username_entry = tk.Entry(root)\n",
    "username_entry.pack()\n",
    "\n",
    "#create password label and entry\n",
    "password_label = tk.Label(root, text=\"Password: \")\n",
    "password_label.pack()\n",
    "password_entry = tk.Entry(root, show=\"*\")\n",
    "password_entry.pack()\n",
    "\n",
    "#create submit button \n",
    "submit_button = tk.Button(root, text=\"Submit\", command=submit)\n",
    "submit_button.pack()\n",
    "\n",
    "#run the main event loop\n",
    "root.mainloop()"
   ]
  }
 ],
 "metadata": {
  "kernelspec": {
   "display_name": "Python 3 (ipykernel)",
   "language": "python",
   "name": "python3"
  },
  "language_info": {
   "codemirror_mode": {
    "name": "ipython",
    "version": 3
   },
   "file_extension": ".py",
   "mimetype": "text/x-python",
   "name": "python",
   "nbconvert_exporter": "python",
   "pygments_lexer": "ipython3",
   "version": "3.11.7"
  }
 },
 "nbformat": 4,
 "nbformat_minor": 5
}
