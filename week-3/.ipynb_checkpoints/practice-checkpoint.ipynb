{
 "cells": [
  {
   "cell_type": "code",
   "execution_count": 1,
   "id": "dc602237-727d-4f87-bed1-9ea7ef3061ae",
   "metadata": {},
   "outputs": [
    {
     "name": "stdin",
     "output_type": "stream",
     "text": [
      "Enter your state of origin:  Enugu\n"
     ]
    },
    {
     "name": "stdout",
     "output_type": "stream",
     "text": [
      "Your state of origin is:  Enugu\n",
      "The first character is:  E\n",
      "The characters starting from 3rd to 5th are:  ugu\n",
      "The string starting from 3rd character is:  ugu\n",
      "State of origin two times EnuguEnugu\n"
     ]
    }
   ],
   "source": [
    "# practice 1 - string data type\n",
    "\n",
    "str = input(\"Enter your state of origin: \")\n",
    "\n",
    "print(\"Your state of origin is: \", str)\n",
    "print(\"The first character is: \", str[0])\n",
    "print(\"The characters starting from 3rd to 5th are: \", str[2:5])\n",
    "print(\"The string starting from 3rd character is: \", str[2:])\n",
    "print(\"State of origin two times\", str * 2)"
   ]
  },
  {
   "cell_type": "code",
   "execution_count": 1,
   "id": "d8862dd2-1ee8-44ec-87c2-620160fb12b3",
   "metadata": {},
   "outputs": [
    {
     "name": "stdin",
     "output_type": "stream",
     "text": [
      "Enter mass in kilograms:  25\n"
     ]
    },
    {
     "name": "stdout",
     "output_type": "stream",
     "text": [
      "The energy equivalent to 25.0 kg of mass is 2.246887946842044e+18 joules.\n"
     ]
    }
   ],
   "source": [
    "#practice 2 - numeric data type\n",
    "\n",
    "#Input from user \n",
    "m = float(input(\"Enter mass in kilograms: \"))\n",
    "\n",
    "# Constant value for the speed of light in m/s\n",
    "c = 299792458\n",
    "\n",
    "# Calculating energy using Einstein's equation\n",
    "energy = m * c ** 2\n",
    "\n",
    "# Displaying the result\n",
    "print(f\"The energy equivalent to {m} kg of mass is {energy} joules.\")\n"
   ]
  },
  {
   "cell_type": "code",
   "execution_count": 5,
   "id": "d7f67a3c-bfe1-44b5-92cc-f9696d29799f",
   "metadata": {},
   "outputs": [
    {
     "name": "stdout",
     "output_type": "stream",
     "text": [
      "['Anacoda', 786, 2.23, 'Jupyter', 70.2]\n",
      "Anacoda\n",
      "[786, 2.23]\n",
      "[2.23, 'Jupyter', 70.2]\n",
      "[321, 'Python', 321, 'Python']\n",
      "['Anacoda', 786, 2.23, 'Jupyter', 70.2, 321, 'Python']\n"
     ]
    }
   ],
   "source": [
    "#practice 3 - list data type\n",
    "\n",
    "list = [ 'Anacoda', 786, 2.23, 'Jupyter', 70.2]\n",
    "shortlist = [321, 'Python']\n",
    "\n",
    "print(list)              #prints complete list\n",
    "print(list[0])           #prints first element of the list\n",
    "print(list[1:3])         #prints elements starting from 2nd till 3rd \n",
    "print(list[2:])          #prints elements starting from 3rd element \n",
    "print(shortlist * 2)     #prints two times\n",
    "print(list + shortlist)  #prints concatenated lists"
   ]
  },
  {
   "cell_type": "code",
   "execution_count": 3,
   "id": "9f50a092-fa0f-424d-855b-f62dcea0e1e9",
   "metadata": {},
   "outputs": [
    {
     "name": "stdout",
     "output_type": "stream",
     "text": [
      "('Ekiti', 750, 'Oshogbo', 250, 'Akure', 500)\n",
      "500\n",
      "('Oshogbo', 250)\n",
      "(250, 'Akure', 500)\n",
      "('Abeokuta', 300, 'Ogbomoso', 'Abeokuta', 300, 'Ogbomoso')\n",
      "('Ekiti', 750, 'Oshogbo', 250, 'Akure', 500, 'Abeokuta', 300, 'Ogbomoso')\n"
     ]
    }
   ],
   "source": [
    "# practice 4 - tuple data type\n",
    "\n",
    "tuple = (\"Ekiti\", 750, 'Oshogbo', 250, \"Akure\", 500)\n",
    "s_tuple = (\"Abeokuta\", 300, \"Ogbomoso\")\n",
    "\n",
    "# prints the complete tuple\n",
    "print(tuple)\n",
    "\n",
    "# prints last element of the tuple \n",
    "print(tuple[-1])\n",
    "\n",
    "# prints elements of the tuple starting from 2nd till 3rd\n",
    "print(tuple[2:4])\n",
    "\n",
    "# prints elements of the tuple starting from 3rd element \n",
    "print(tuple[3:])\n",
    "\n",
    "# prints the contents of the tuple twice\n",
    "print(s_tuple * 2)\n",
    "\n",
    "# prints concatenated tuples\n",
    "print (tuple + s_tuple)"
   ]
  },
  {
   "cell_type": "code",
   "execution_count": 4,
   "id": "987d29cf-62f9-4fbe-848a-10139043b184",
   "metadata": {},
   "outputs": [
    {
     "name": "stdout",
     "output_type": "stream",
     "text": [
      "False\n",
      "False\n",
      "False\n",
      "True\n"
     ]
    }
   ],
   "source": [
    "#practice 5 - boolean data type \n",
    "\n",
    "# returns false as game_1 is not equal to game_2 \n",
    "game_1 = 2\n",
    "game_2 = 4\n",
    "\n",
    "print(game_1 == game_2)\n",
    "\n",
    "# returns false as val is none\n",
    "val = None\n",
    "print(bool(val))\n",
    "\n",
    "# returns false as num is an empty sequence\n",
    "num = ()\n",
    "print(bool(num))\n",
    "\n",
    "#returns true as age is boolean\n",
    "age = True\n",
    "print(bool(age))"
   ]
  },
  {
   "cell_type": "code",
   "execution_count": 7,
   "id": "87a92c58-60a2-45ff-86e1-39d3dafbc7b7",
   "metadata": {},
   "outputs": [
    {
     "name": "stdout",
     "output_type": "stream",
     "text": [
      "Grade = 70\n",
      "GPA = 4\n",
      "CGPA = 4\n"
     ]
    }
   ],
   "source": [
    "#practice 6 - data type conversion\n",
    "\n",
    "#convert to int \n",
    "\n",
    "grade = int(70)          #grade will be 70\n",
    "gpa = int(4.9)           #gpa will be 4.9\n",
    "cgpa = int(\"4\")          #cgpa will be 4 \n",
    "\n",
    "print(f\"Grade = {grade}\")\n",
    "print(f\"GPA = {gpa}\")\n",
    "print(f\"CGPA = {cgpa}\")"
   ]
  },
  {
   "cell_type": "code",
   "execution_count": 8,
   "id": "761501e2-bda8-40a6-9bdd-b79a0db3e3b4",
   "metadata": {},
   "outputs": [
    {
     "name": "stdout",
     "output_type": "stream",
     "text": [
      "Grade = 97.0\n",
      "GPA = 5.0\n",
      "CGPA = 4.7\n"
     ]
    }
   ],
   "source": [
    "#practice 7 - data type conversion\n",
    "\n",
    "#convert to float\n",
    "\n",
    "grade = float(97)\n",
    "gpa = float(5)\n",
    "cgpa = float(\"4.7\")\n",
    "\n",
    "print(f\"Grade = {grade}\")\n",
    "print(f\"GPA = {gpa}\")\n",
    "print(f\"CGPA = {cgpa}\")"
   ]
  },
  {
   "cell_type": "code",
   "execution_count": null,
   "id": "00f7ee7b-d1a3-4fab-96f5-686cb836209c",
   "metadata": {},
   "outputs": [],
   "source": []
  }
 ],
 "metadata": {
  "kernelspec": {
   "display_name": "Python 3 (ipykernel)",
   "language": "python",
   "name": "python3"
  },
  "language_info": {
   "codemirror_mode": {
    "name": "ipython",
    "version": 3
   },
   "file_extension": ".py",
   "mimetype": "text/x-python",
   "name": "python",
   "nbconvert_exporter": "python",
   "pygments_lexer": "ipython3",
   "version": "3.11.7"
  }
 },
 "nbformat": 4,
 "nbformat_minor": 5
}
