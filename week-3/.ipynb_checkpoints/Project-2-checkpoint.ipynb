{
 "cells": [
  {
   "cell_type": "code",
   "execution_count": 3,
   "id": "a0e600bb-eacd-4ff0-9401-90ae64016122",
   "metadata": {},
   "outputs": [
    {
     "name": "stdin",
     "output_type": "stream",
     "text": [
      "Enter a in ax2 + bx + c = 0 :  2\n",
      "Enter b in ax2 + bx + c = 0 :  4\n",
      "Enter c in ax2 + bx + c = 0 :  6\n"
     ]
    },
    {
     "ename": "TypeError",
     "evalue": "unsupported operand type(s) for ^: 'float' and 'float'",
     "output_type": "error",
     "traceback": [
      "\u001b[1;31m---------------------------------------------------------------------------\u001b[0m",
      "\u001b[1;31mTypeError\u001b[0m                                 Traceback (most recent call last)",
      "Cell \u001b[1;32mIn[3], line 6\u001b[0m\n\u001b[0;32m      3\u001b[0m b \u001b[38;5;241m=\u001b[39m \u001b[38;5;28mfloat\u001b[39m(\u001b[38;5;28minput\u001b[39m(\u001b[38;5;124m\"\u001b[39m\u001b[38;5;124mEnter b in ax2 + bx + c = 0 : \u001b[39m\u001b[38;5;124m\"\u001b[39m))\n\u001b[0;32m      4\u001b[0m c \u001b[38;5;241m=\u001b[39m \u001b[38;5;28mfloat\u001b[39m(\u001b[38;5;28minput\u001b[39m(\u001b[38;5;124m\"\u001b[39m\u001b[38;5;124mEnter c in ax2 + bx + c = 0 : \u001b[39m\u001b[38;5;124m\"\u001b[39m))\n\u001b[1;32m----> 6\u001b[0m x1 \u001b[38;5;241m=\u001b[39m \u001b[38;5;28mfloat\u001b[39m(\u001b[38;5;241m-\u001b[39m(b \u001b[38;5;241m+\u001b[39m (b \u001b[38;5;241m*\u001b[39m b \u001b[38;5;241m-\u001b[39m \u001b[38;5;241m4\u001b[39m \u001b[38;5;241m*\u001b[39m a \u001b[38;5;241m*\u001b[39m c) \u001b[38;5;241m^\u001b[39m \u001b[38;5;241m0.5\u001b[39m) \u001b[38;5;241m/\u001b[39m \u001b[38;5;241m2\u001b[39m \u001b[38;5;241m*\u001b[39m a)\n\u001b[0;32m      7\u001b[0m x2 \u001b[38;5;241m=\u001b[39m \u001b[38;5;28mfloat\u001b[39m(\u001b[38;5;241m-\u001b[39m(b \u001b[38;5;241m-\u001b[39m (b \u001b[38;5;241m*\u001b[39m b \u001b[38;5;241m-\u001b[39m \u001b[38;5;241m4\u001b[39m \u001b[38;5;241m*\u001b[39m a \u001b[38;5;241m*\u001b[39m c) \u001b[38;5;241m^\u001b[39m \u001b[38;5;241m0.5\u001b[39m) \u001b[38;5;241m/\u001b[39m \u001b[38;5;241m2\u001b[39m \u001b[38;5;241m*\u001b[39m a)\n\u001b[0;32m      9\u001b[0m \u001b[38;5;28mprint\u001b[39m(\u001b[38;5;124mf\u001b[39m\u001b[38;5;124m\"\u001b[39m\u001b[38;5;124mThe roots of the quadratic equation are (x1) and (x2)\u001b[39m\u001b[38;5;124m\"\u001b[39m)\n",
      "\u001b[1;31mTypeError\u001b[0m: unsupported operand type(s) for ^: 'float' and 'float'"
     ]
    }
   ],
   "source": [
    "#python program to find roots of quadratic equation\n",
    "a = float(input(\"Enter a in ax2 + bx + c = 0 : \"))\n",
    "b = float(input(\"Enter b in ax2 + bx + c = 0 : \"))\n",
    "c = float(input(\"Enter c in ax2 + bx + c = 0 : \"))\n",
    "\n",
    "x1 = float(-(b + (b * b - 4 * a * c) ^ 0.5) / 2 * a)\n",
    "x2 = float(-(b - (b * b - 4 * a * c) ^ 0.5) / 2 * a)\n",
    "\n",
    "print(f\"The roots of the quadratic equation are (x1) and (x2)\")"
   ]
  },
  {
   "cell_type": "code",
   "execution_count": null,
   "id": "bd10c2c8-d92d-4d25-be16-8ef059dff0a6",
   "metadata": {},
   "outputs": [],
   "source": []
  }
 ],
 "metadata": {
  "kernelspec": {
   "display_name": "Python 3 (ipykernel)",
   "language": "python",
   "name": "python3"
  },
  "language_info": {
   "codemirror_mode": {
    "name": "ipython",
    "version": 3
   },
   "file_extension": ".py",
   "mimetype": "text/x-python",
   "name": "python",
   "nbconvert_exporter": "python",
   "pygments_lexer": "ipython3",
   "version": "3.11.7"
  }
 },
 "nbformat": 4,
 "nbformat_minor": 5
}
