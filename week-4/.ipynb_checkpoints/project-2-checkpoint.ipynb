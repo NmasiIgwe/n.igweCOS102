{
 "cells": [
  {
   "cell_type": "code",
   "execution_count": null,
   "id": "a16b525b-1b3b-43ae-9f8e-2b0550114cfa",
   "metadata": {},
   "outputs": [
    {
     "name": "stdout",
     "output_type": "stream",
     "text": [
      "Welcome to Izfin Technology\n"
     ]
    }
   ],
   "source": [
    "#program for izfin technology\n",
    "\n",
    "print(\"Welcome to Izfin Technology\")\n",
    "years = float(input(\"Enter years of experience: \"))\n",
    "age = float(input(\"Enter the age of the staff: \"))\n",
    "\n",
    "if years > 25.0 and age >= 55.0:\n",
    "    print(\"ATR of the staff is 5600000\")\n",
    "elif years > 20.0 and age >= 45.0:\n",
    "    print(\"ATR of the staff is 4680000\")\n",
    "elif years > 10.0 and age >= 35.0:\n",
    "    print(\"ATR of the staff is 5500000\")"
   ]
  },
  {
   "cell_type": "code",
   "execution_count": null,
   "id": "b772b93a-c697-45db-8b8c-d1a80824d459",
   "metadata": {},
   "outputs": [],
   "source": []
  }
 ],
 "metadata": {
  "kernelspec": {
   "display_name": "Python 3 (ipykernel)",
   "language": "python",
   "name": "python3"
  },
  "language_info": {
   "codemirror_mode": {
    "name": "ipython",
    "version": 3
   },
   "file_extension": ".py",
   "mimetype": "text/x-python",
   "name": "python",
   "nbconvert_exporter": "python",
   "pygments_lexer": "ipython3",
   "version": "3.11.7"
  }
 },
 "nbformat": 4,
 "nbformat_minor": 5
}
