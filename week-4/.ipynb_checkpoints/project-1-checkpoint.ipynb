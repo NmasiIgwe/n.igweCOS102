{
 "cells": [
  {
   "cell_type": "code",
   "execution_count": 11,
   "id": "b48c4c1a-f09e-4ef5-9738-516be02854fa",
   "metadata": {},
   "outputs": [
    {
     "name": "stdout",
     "output_type": "stream",
     "text": [
      "Name | Age | Height | Scores\n",
      "Evenlyn | 17 | 5.5 | 83\n",
      "Jessica | 16 | 6.0 | 85\n",
      "Somto | 17 | 5.4 | 70\n",
      "Edith | 18 | 5.9 | 60\n",
      "Liza | 16 | 5.5 | 65\n",
      "Madonna | 18 | 5.8 | 74\n",
      "Waje | 17 | 6.1 | 87\n",
      "Tola | 28 | 6.0 | 98\n",
      "Aisha | 19 | 5.7 | 66\n",
      "Latifa | 17 | 5.5 | 69\n"
     ]
    }
   ],
   "source": [
    "#program to represent data in a tabular form\n",
    "#girls\n",
    "name = ['Evenlyn', 'Jessica', 'Somto', 'Edith', 'Liza', 'Madonna', 'Waje', 'Tola', 'Aisha', 'Latifa']\n",
    "age = [17, 16, 17, 18, 16, 18, 17, 28, 19, 17]\n",
    "height = [5.5, 6.0, 5.4, 5.9, 5.5, 5.8, 6.1, 6.0, 5.7, 5.5]\n",
    "scores = [83, 85, 70, 60, 65, 74, 87, 98, 66, 69]\n",
    "\n",
    "print(\"Name | Age | Height | Scores\")\n",
    "for column in range(10):\n",
    "    print(name[column], \"|\" ,  age[column], \"|\", height[column], \"|\", scores[column])\n"
   ]
  },
  {
   "cell_type": "code",
   "execution_count": 12,
   "id": "e0aff1e4-7b43-4d50-af67-32a270d64ff3",
   "metadata": {},
   "outputs": [
    {
     "name": "stdout",
     "output_type": "stream",
     "text": [
      "Name | Age | Height | Scores\n",
      "Chinedu | 17 | 5.5 | 83\n",
      "Liam | 16 | 6.0 | 85\n",
      "Wale | 17 | 5.4 | 70\n",
      "Gbenga | 18 | 5.9 | 60\n",
      "Abiola | 16 | 5.5 | 65\n",
      "Kole | 18 | 5.8 | 74\n",
      "George | 17 | 6.1 | 87\n",
      "Thomas | 28 | 6.0 | 98\n",
      "Wesley | 19 | 5.7 | 66\n",
      "Kunle | 17 | 5.5 | 69\n"
     ]
    }
   ],
   "source": [
    "#boys\n",
    "name = ['Chinedu', 'Liam', 'Wale', 'Gbenga', 'Abiola', 'Kole', 'George', 'Thomas', 'Wesley', 'Kunle']\n",
    "age = [17, 16, 17, 18, 16, 18, 17, 28, 19, 17]\n",
    "height = [5.5, 6.0, 5.4, 5.9, 5.5, 5.8, 6.1, 6.0, 5.7, 5.5]\n",
    "scores = [83, 85, 70, 60, 65, 74, 87, 98, 66, 69]\n",
    "\n",
    "print(\"Name | Age | Height | Scores\")\n",
    "for column in range(10):\n",
    "    print(name[column], \"|\" ,  age[column], \"|\", height[column], \"|\", scores[column])\n"
   ]
  },
  {
   "cell_type": "code",
   "execution_count": null,
   "id": "e5673a58-01cf-432c-8dc5-e8577776eafa",
   "metadata": {},
   "outputs": [],
   "source": []
  }
 ],
 "metadata": {
  "kernelspec": {
   "display_name": "Python 3 (ipykernel)",
   "language": "python",
   "name": "python3"
  },
  "language_info": {
   "codemirror_mode": {
    "name": "ipython",
    "version": 3
   },
   "file_extension": ".py",
   "mimetype": "text/x-python",
   "name": "python",
   "nbconvert_exporter": "python",
   "pygments_lexer": "ipython3",
   "version": "3.11.7"
  }
 },
 "nbformat": 4,
 "nbformat_minor": 5
}
