{
 "cells": [
  {
   "cell_type": "code",
   "execution_count": 3,
   "id": "421d7721-8342-40a8-b3a5-67a165c0c3d9",
   "metadata": {},
   "outputs": [
    {
     "name": "stdout",
     "output_type": "stream",
     "text": [
      "Welcome to PAU Admission Qualifier\n"
     ]
    },
    {
     "name": "stdin",
     "output_type": "stream",
     "text": [
      "Enter Your Name:  Nmasi\n",
      "Enter Your JAMB Score:  250\n",
      "Are you applying to Computer Science or Mass Communication :   Computer Science\n"
     ]
    },
    {
     "name": "stdout",
     "output_type": "stream",
     "text": [
      "You have been offered admission to PAU to study Computer Science\n"
     ]
    }
   ],
   "source": [
    "#project-2\n",
    "#Acceptance Or DEnial program\n",
    "print(\"Welcome to PAU Admission Qualifier\")\n",
    "q1 = str(input(\"Enter Your Name: \"))\n",
    "q2 = float(input(\"Enter Your JAMB Score: \"))\n",
    "q3 = str(input(\"Are you applying to Computer Science or Mass Communication :  \"))\n",
    "if q3 == \"Computer Science\" and q2 <= 250 :\n",
    "    print(\"You have been offered admission to PAU to study Computer Science\")\n",
    "if q3 == \"Mass Communication\" and q2 <= 230:\n",
    "    print(\"You have been offered admission to PAU to study Mass Communication\")\n",
    "else:\n",
    "    print(\"YOU HAVER BEEN DENIED ADMISSION\")\n",
    "\n",
    "\n"
   ]
  },
  {
   "cell_type": "code",
   "execution_count": null,
   "id": "98c2fd6d-307b-4a39-bed4-29d1b1c8feb1",
   "metadata": {},
   "outputs": [],
   "source": []
  }
 ],
 "metadata": {
  "kernelspec": {
   "display_name": "Python 3 (ipykernel)",
   "language": "python",
   "name": "python3"
  },
  "language_info": {
   "codemirror_mode": {
    "name": "ipython",
    "version": 3
   },
   "file_extension": ".py",
   "mimetype": "text/x-python",
   "name": "python",
   "nbconvert_exporter": "python",
   "pygments_lexer": "ipython3",
   "version": "3.11.7"
  }
 },
 "nbformat": 4,
 "nbformat_minor": 5
}
