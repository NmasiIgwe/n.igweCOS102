{
 "cells": [
  {
   "cell_type": "code",
   "execution_count": 2,
   "id": "9d74de3e-87b4-46a9-95ee-912ba29987ff",
   "metadata": {},
   "outputs": [
    {
     "name": "stdout",
     "output_type": "stream",
     "text": [
      "Hi my name is Felicia. I am String\n",
      "<class 'str'>\n",
      "Hi my name is Nmasi. I am also a String\n",
      "<class 'str'>\n"
     ]
    }
   ],
   "source": [
    "# Python program to print strings and type \n",
    "str1 = \"Hi my name is Felicia. I am String\"\n",
    "str2 = \"Hi my name is Nmasi. I am also a String\"\n",
    "\n",
    "# displaying string str1 and its type\n",
    "print(str1)\n",
    "print(type(str1))\n",
    "\n",
    "#displaying string str2 and its type \n",
    "print(str2)\n",
    "print(type(str2))\n"
   ]
  },
  {
   "cell_type": "code",
   "execution_count": null,
   "id": "7669ce13-f3df-4e93-b646-254102d6e725",
   "metadata": {},
   "outputs": [],
   "source": []
  }
 ],
 "metadata": {
  "kernelspec": {
   "display_name": "Python 3 (ipykernel)",
   "language": "python",
   "name": "python3"
  },
  "language_info": {
   "codemirror_mode": {
    "name": "ipython",
    "version": 3
   },
   "file_extension": ".py",
   "mimetype": "text/x-python",
   "name": "python",
   "nbconvert_exporter": "python",
   "pygments_lexer": "ipython3",
   "version": "3.11.7"
  }
 },
 "nbformat": 4,
 "nbformat_minor": 5
}
