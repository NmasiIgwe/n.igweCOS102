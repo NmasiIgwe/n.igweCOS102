{
 "cells": [
  {
   "cell_type": "code",
   "execution_count": 11,
   "id": "1401f3ea-923b-49c1-9c01-9cf165022c7c",
   "metadata": {},
   "outputs": [
    {
     "name": "stdout",
     "output_type": "stream",
     "text": [
      "P = 10\n",
      "R = 5\n",
      "T = 2\n",
      "Simple Interest = 11.0\n"
     ]
    }
   ],
   "source": [
    "#simple interest program\n",
    "P = 10\n",
    "print(\"P =\",(P))\n",
    "R = 5\n",
    "print(\"R =\",(R))\n",
    "T = 2\n",
    "print(\"T =\",(T))\n",
    "A = P * (1 + (R/100) * T)\n",
    "print(\"Simple Interest =\",(A))"
   ]
  },
  {
   "cell_type": "code",
   "execution_count": 13,
   "id": "ad1f91fe-2bc1-47c8-9196-e8650bed548a",
   "metadata": {},
   "outputs": [
    {
     "name": "stdout",
     "output_type": "stream",
     "text": [
      "P = 9\n",
      "R = 3\n",
      "t = 4\n",
      "Compound Interest = 26\n"
     ]
    }
   ],
   "source": [
    "#compound interest\n",
    "P = 9\n",
    "print(\"P =\",(P))\n",
    "R = 3\n",
    "print(\"R =\",(R))\n",
    "t = 4\n",
    "print(\"t =\",(t))\n",
    "n = 2\n",
    "A = P * (1 + int(R/n))^n*t\n",
    "print(\"Compound Interest =\",(A))"
   ]
  },
  {
   "cell_type": "code",
   "execution_count": 22,
   "id": "046a9332-9546-402d-b5a7-ae9a84a0baee",
   "metadata": {},
   "outputs": [
    {
     "name": "stdout",
     "output_type": "stream",
     "text": [
      "P = 25\n",
      "M = 3\n",
      "T = 5\n",
      "R = 6\n",
      "n = 4\n",
      "t = 7\n",
      "Annuity Plan = 9375.0\n"
     ]
    }
   ],
   "source": [
    "#annuity plan\n",
    "P = 25\n",
    "print(\"P =\",(P))\n",
    "M = 3\n",
    "print(\"M =\",(M))\n",
    "T = 5\n",
    "print(\"T =\",(T))\n",
    "R = 6\n",
    "print(\"R =\",(R))\n",
    "n = 4\n",
    "print(\"n =\",(n))\n",
    "t = 7\n",
    "print(\"t =\",(t))\n",
    "A = P * M * T * ((1 + int(R/n)) ^ n * t - 1) / int(R/n)\n",
    "print(\"Annuity Plan =\",(A))"
   ]
  }
 ],
 "metadata": {
  "kernelspec": {
   "display_name": "Python 3 (ipykernel)",
   "language": "python",
   "name": "python3"
  },
  "language_info": {
   "codemirror_mode": {
    "name": "ipython",
    "version": 3
   },
   "file_extension": ".py",
   "mimetype": "text/x-python",
   "name": "python",
   "nbconvert_exporter": "python",
   "pygments_lexer": "ipython3",
   "version": "3.11.7"
  }
 },
 "nbformat": 4,
 "nbformat_minor": 5
}
